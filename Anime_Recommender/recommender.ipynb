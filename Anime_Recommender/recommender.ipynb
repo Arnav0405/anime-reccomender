{
 "cells": [
  {
   "cell_type": "code",
   "execution_count": 2,
   "metadata": {},
   "outputs": [],
   "source": [
    "import pandas as pd\n",
    "import numpy as np\n"
   ]
  },
  {
   "cell_type": "markdown",
   "metadata": {},
   "source": [
    "Let's check what the number of anime that have been loaded in the main csv file:\n"
   ]
  },
  {
   "cell_type": "code",
   "execution_count": 4,
   "metadata": {},
   "outputs": [
    {
     "name": "stdout",
     "output_type": "stream",
     "text": [
      "<class 'pandas.core.frame.DataFrame'>\n",
      "RangeIndex: 2149 entries, 0 to 2148\n",
      "Data columns (total 11 columns):\n",
      " #   Column        Non-Null Count  Dtype \n",
      "---  ------        --------------  ----- \n",
      " 0   id            2149 non-null   object\n",
      " 1   title         2149 non-null   object\n",
      " 2   startDate     2149 non-null   object\n",
      " 3   popularity    2149 non-null   object\n",
      " 4   favourites    2149 non-null   object\n",
      " 5   tags          2149 non-null   object\n",
      " 6   genres        2149 non-null   object\n",
      " 7   averageScore  2149 non-null   object\n",
      " 8   duration      2149 non-null   object\n",
      " 9   description   2149 non-null   object\n",
      " 10  studios       2149 non-null   object\n",
      "dtypes: object(11)\n",
      "memory usage: 184.8+ KB\n",
      "None\n",
      "id              0\n",
      "title           0\n",
      "startDate       0\n",
      "popularity      0\n",
      "favourites      0\n",
      "tags            0\n",
      "genres          0\n",
      "averageScore    0\n",
      "duration        0\n",
      "description     0\n",
      "studios         0\n",
      "dtype: int64\n"
     ]
    }
   ],
   "source": [
    "df_accurate = pd.read_csv('anime_data.csv')\n",
    "print(df_accurate.info())    #Gives the total sets of data and the data type of each column\n",
    "null_count = df_accurate.isnull().sum()\n",
    "print(null_count)  #Count the number of nulls in our dataset"
   ]
  },
  {
   "cell_type": "markdown",
   "metadata": {},
   "source": [
    "Now let's do the same but for the other dataframe\n"
   ]
  },
  {
   "cell_type": "code",
   "execution_count": 6,
   "metadata": {},
   "outputs": [
    {
     "name": "stdout",
     "output_type": "stream",
     "text": [
      "<class 'pandas.core.frame.DataFrame'>\n",
      "RangeIndex: 3374 entries, 0 to 3373\n",
      "Data columns (total 12 columns):\n",
      " #   Column        Non-Null Count  Dtype \n",
      "---  ------        --------------  ----- \n",
      " 0   id            3374 non-null   object\n",
      " 1   title         3374 non-null   object\n",
      " 2   startDate     3374 non-null   object\n",
      " 3   popularity    3374 non-null   object\n",
      " 4   favourites    3374 non-null   object\n",
      " 5   tags          3374 non-null   object\n",
      " 6   genres        3374 non-null   object\n",
      " 7   averageScore  3319 non-null   object\n",
      " 8   episodes      3318 non-null   object\n",
      " 9   duration      3314 non-null   object\n",
      " 10  description   3371 non-null   object\n",
      " 11  studios       3374 non-null   object\n",
      "dtypes: object(12)\n",
      "memory usage: 316.4+ KB\n",
      "None\n",
      "id               0\n",
      "title            0\n",
      "startDate        0\n",
      "popularity       0\n",
      "favourites       0\n",
      "tags             0\n",
      "genres           0\n",
      "averageScore    55\n",
      "episodes        56\n",
      "duration        60\n",
      "description      3\n",
      "studios          0\n",
      "dtype: int64\n"
     ]
    }
   ],
   "source": [
    "df_inaccurate = pd.read_csv('anime_data2.csv')\n",
    "print(df_inaccurate.info())    #Gives the total sets of data and the data type of each column\n",
    "df_nan = df_inaccurate.isnull().sum()\n",
    "print(df_nan)  #Count the number of nulls in our dataset\n"
   ]
  }
 ],
 "metadata": {
  "kernelspec": {
   "display_name": "aniRecom",
   "language": "python",
   "name": "python3"
  },
  "language_info": {
   "codemirror_mode": {
    "name": "ipython",
    "version": 3
   },
   "file_extension": ".py",
   "mimetype": "text/x-python",
   "name": "python",
   "nbconvert_exporter": "python",
   "pygments_lexer": "ipython3",
   "version": "3.11.2"
  }
 },
 "nbformat": 4,
 "nbformat_minor": 2
}
