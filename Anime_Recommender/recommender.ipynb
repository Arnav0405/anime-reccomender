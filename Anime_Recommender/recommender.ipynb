{
 "cells": [
  {
   "cell_type": "code",
   "execution_count": 133,
   "metadata": {},
   "outputs": [],
   "source": [
    "import pandas as pd\n",
    "import numpy as np"
   ]
  },
  {
   "cell_type": "markdown",
   "metadata": {},
   "source": [
    "Let's check what the number of anime that have been loaded in the main csv file:\n"
   ]
  },
  {
   "cell_type": "code",
   "execution_count": 134,
   "metadata": {},
   "outputs": [
    {
     "name": "stdout",
     "output_type": "stream",
     "text": [
      "<class 'pandas.core.frame.DataFrame'>\n",
      "RangeIndex: 3205 entries, 0 to 3204\n",
      "Data columns (total 12 columns):\n",
      " #   Column        Non-Null Count  Dtype  \n",
      "---  ------        --------------  -----  \n",
      " 0   id            3205 non-null   int64  \n",
      " 1   title         3205 non-null   object \n",
      " 2   startDate     3205 non-null   object \n",
      " 3   popularity    3205 non-null   int64  \n",
      " 4   favourites    3205 non-null   int64  \n",
      " 5   tags          3205 non-null   object \n",
      " 6   genres        3205 non-null   object \n",
      " 7   averageScore  3205 non-null   int64  \n",
      " 8   episodes      3205 non-null   int64  \n",
      " 9   duration      3203 non-null   float64\n",
      " 10  description   3202 non-null   object \n",
      " 11  studios       3205 non-null   object \n",
      "dtypes: float64(1), int64(5), object(6)\n",
      "memory usage: 300.6+ KB\n",
      "None\n",
      "id              0\n",
      "title           0\n",
      "startDate       0\n",
      "popularity      0\n",
      "favourites      0\n",
      "tags            0\n",
      "genres          0\n",
      "averageScore    0\n",
      "episodes        0\n",
      "duration        2\n",
      "description     3\n",
      "studios         0\n",
      "dtype: int64\n"
     ]
    }
   ],
   "source": [
    "fullDF = pd.read_csv('anime_data.csv')\n",
    "print(fullDF.info())    #Gives the total sets of data and the data type of each column\n",
    "null_count = fullDF.isnull().sum()\n",
    "print(null_count)  #Count the number of nulls in our dataset"
   ]
  },
  {
   "cell_type": "markdown",
   "metadata": {},
   "source": [
    "Now let's do the same but for the other dataframe\n"
   ]
  },
  {
   "cell_type": "markdown",
   "metadata": {},
   "source": [
    "<h2>Reformatting the Data </h2></br>\n",
    "<p>Let's start by removing the NaN values in the dataset. </p>"
   ]
  },
  {
   "cell_type": "code",
   "execution_count": 135,
   "metadata": {},
   "outputs": [
    {
     "name": "stdout",
     "output_type": "stream",
     "text": [
      "<class 'pandas.core.frame.DataFrame'>\n",
      "Index: 3201 entries, 0 to 3204\n",
      "Data columns (total 12 columns):\n",
      " #   Column        Non-Null Count  Dtype  \n",
      "---  ------        --------------  -----  \n",
      " 0   id            3201 non-null   int64  \n",
      " 1   title         3201 non-null   object \n",
      " 2   startDate     3201 non-null   object \n",
      " 3   popularity    3201 non-null   int64  \n",
      " 4   favourites    3201 non-null   int64  \n",
      " 5   tags          3201 non-null   object \n",
      " 6   genres        3201 non-null   object \n",
      " 7   averageScore  3201 non-null   int64  \n",
      " 8   episodes      3201 non-null   int64  \n",
      " 9   duration      3201 non-null   float64\n",
      " 10  description   3201 non-null   object \n",
      " 11  studios       3201 non-null   object \n",
      "dtypes: float64(1), int64(5), object(6)\n",
      "memory usage: 325.1+ KB\n",
      "None\n"
     ]
    }
   ],
   "source": [
    "fullDF = fullDF.dropna()\n",
    "print(fullDF.info()) \n",
    "#I want to view all the null values anime\n",
    "\n",
    "#print(df_nan)  #Count the number of nulls in our dataset\n"
   ]
  },
  {
   "cell_type": "markdown",
   "metadata": {},
   "source": [
    "Let's find a metric for rating of the series. I will use the top rating system from MyAnimeList. We will be using the averageScore column from our dataset</br></br>\n",
    "\n",
    "Weighted Score = </br>\n",
    "(v / (v + m)) * S + (m / (v + m)) * C</br>\n",
    "S = Average score for the anime/manga</br>\n",
    "v = Number users giving a score for the anime/manga †</br>\n",
    "m = Minimum number of scored users required to get a calculated score</br>\n",
    "C = The mean score across the entire Anime database</br>\n"
   ]
  },
  {
   "cell_type": "code",
   "execution_count": 146,
   "metadata": {},
   "outputs": [
    {
     "name": "stdout",
     "output_type": "stream",
     "text": [
      "16\n"
     ]
    }
   ],
   "source": [
    "usersList = fullDF['popularity'].tolist()\n",
    "avgScore = fullDF['averageScore'].tolist()"
   ]
  },
  {
   "cell_type": "markdown",
   "metadata": {},
   "source": [
    "Let's try to see what I can do with the genres.</br>\n",
    "\n",
    "This is what my plan is, convert the genres column into a bigger Genres column that has all the genres as smaller seperate columns. If the anime has that genre used in it, it would have a 1, else a 0. </br></br>\n",
    "\n",
    "I can't comprehend where will I go with this tho? Like why would I do this? Would this really help?\n"
   ]
  },
  {
   "cell_type": "code",
   "execution_count": 140,
   "metadata": {},
   "outputs": [
    {
     "name": "stdout",
     "output_type": "stream",
     "text": [
      "0                    [Action, Drama, Fantasy, Mystery]\n",
      "1    [Action, Adventure, Drama, Fantasy, Supernatural]\n",
      "2     [Mystery, Psychological, Supernatural, Thriller]\n",
      "3                        [Action, Drama, Supernatural]\n",
      "4                          [Action, Adventure, Comedy]\n",
      "Name: genres, dtype: object\n",
      "19\n"
     ]
    }
   ],
   "source": [
    "df_change = fullDF['genres'].str.split(',').tolist()\n",
    "#I have a list or lists.\n",
    "#Each list of list contains a string\n",
    "#The String has not only words but also other shit in it\n",
    "#I want to remove the other shit\n",
    "genreList = []\n",
    "for i in range(len(df_change)):\n",
    "    for j in range(len(df_change[i])):\n",
    "         string = df_change[i][j]\n",
    "         df_change[i][j]= ''.join(letter for letter in string if letter.isalnum())\n",
    "         #adding into out genre list\n",
    "         if df_change[i][j] not in genreList:\n",
    "            genreList.append(df_change[i][j])\n",
    "genreList.pop()\n",
    "#lets create a dataframe\n",
    "#genreDF = pd.DataFrame(df_change)\n",
    "#print(genreDF.head())\n",
    "print(len(genreList))\n",
    "#genreList = df_change"
   ]
  }
 ],
 "metadata": {
  "kernelspec": {
   "display_name": "aniRecom",
   "language": "python",
   "name": "python3"
  },
  "language_info": {
   "codemirror_mode": {
    "name": "ipython",
    "version": 3
   },
   "file_extension": ".py",
   "mimetype": "text/x-python",
   "name": "python",
   "nbconvert_exporter": "python",
   "pygments_lexer": "ipython3",
   "version": "3.11.2"
  }
 },
 "nbformat": 4,
 "nbformat_minor": 2
}
