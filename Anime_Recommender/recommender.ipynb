{
 "cells": [
  {
   "cell_type": "code",
   "execution_count": 2,
   "metadata": {},
   "outputs": [],
   "source": [
    "import pandas as pd\n",
    "import numpy as np\n",
    "import matplotlib.axes as axis\n",
    "import matplotlib.pyplot as plt"
   ]
  },
  {
   "cell_type": "markdown",
   "metadata": {},
   "source": [
    "Let's check what the number of anime that have been loaded in the main csv file:\n"
   ]
  },
  {
   "cell_type": "code",
   "execution_count": 3,
   "metadata": {},
   "outputs": [
    {
     "name": "stdout",
     "output_type": "stream",
     "text": [
      "<class 'pandas.core.frame.DataFrame'>\n",
      "RangeIndex: 3205 entries, 0 to 3204\n",
      "Data columns (total 12 columns):\n",
      " #   Column        Non-Null Count  Dtype  \n",
      "---  ------        --------------  -----  \n",
      " 0   id            3205 non-null   int64  \n",
      " 1   title         3205 non-null   object \n",
      " 2   startDate     3205 non-null   object \n",
      " 3   popularity    3205 non-null   int64  \n",
      " 4   favourites    3205 non-null   int64  \n",
      " 5   tags          3205 non-null   object \n",
      " 6   genres        3205 non-null   object \n",
      " 7   averageScore  3205 non-null   int64  \n",
      " 8   episodes      3205 non-null   int64  \n",
      " 9   duration      3203 non-null   float64\n",
      " 10  description   3202 non-null   object \n",
      " 11  studios       3205 non-null   object \n",
      "dtypes: float64(1), int64(5), object(6)\n",
      "memory usage: 300.6+ KB\n",
      "None\n",
      "id              0\n",
      "title           0\n",
      "startDate       0\n",
      "popularity      0\n",
      "favourites      0\n",
      "tags            0\n",
      "genres          0\n",
      "averageScore    0\n",
      "episodes        0\n",
      "duration        2\n",
      "description     3\n",
      "studios         0\n",
      "dtype: int64\n"
     ]
    }
   ],
   "source": [
    "fullDF = pd.read_csv('anime_data.csv')\n",
    "print(fullDF.info())    #Gives the total sets of data and the data type of each column\n",
    "null_count = fullDF.isnull().sum()\n",
    "print(null_count)  #Count the number of nulls in our dataset"
   ]
  },
  {
   "cell_type": "markdown",
   "metadata": {},
   "source": [
    "Now let's do the same but for the other dataframe\n"
   ]
  },
  {
   "cell_type": "markdown",
   "metadata": {},
   "source": [
    "<h2>Reformatting the Data </h2></br>\n",
    "<p>Let's start by removing the NaN values in the dataset. </p>"
   ]
  },
  {
   "cell_type": "code",
   "execution_count": 4,
   "metadata": {},
   "outputs": [
    {
     "name": "stdout",
     "output_type": "stream",
     "text": [
      "<class 'pandas.core.frame.DataFrame'>\n",
      "Index: 3201 entries, 0 to 3204\n",
      "Data columns (total 12 columns):\n",
      " #   Column        Non-Null Count  Dtype  \n",
      "---  ------        --------------  -----  \n",
      " 0   id            3201 non-null   int64  \n",
      " 1   title         3201 non-null   object \n",
      " 2   startDate     3201 non-null   object \n",
      " 3   popularity    3201 non-null   int64  \n",
      " 4   favourites    3201 non-null   int64  \n",
      " 5   tags          3201 non-null   object \n",
      " 6   genres        3201 non-null   object \n",
      " 7   averageScore  3201 non-null   int64  \n",
      " 8   episodes      3201 non-null   int64  \n",
      " 9   duration      3201 non-null   float64\n",
      " 10  description   3201 non-null   object \n",
      " 11  studios       3201 non-null   object \n",
      "dtypes: float64(1), int64(5), object(6)\n",
      "memory usage: 325.1+ KB\n",
      "None\n"
     ]
    }
   ],
   "source": [
    "fullDF = fullDF.dropna()\n",
    "print(fullDF.info()) \n",
    "#I want to view all the null values anime\n",
    "\n",
    "#print(df_nan)  #Count the number of nulls in our dataset\n"
   ]
  },
  {
   "cell_type": "markdown",
   "metadata": {},
   "source": [
    "Let's make the Titles a little better"
   ]
  },
  {
   "cell_type": "code",
   "execution_count": 5,
   "metadata": {},
   "outputs": [
    {
     "name": "stdout",
     "output_type": "stream",
     "text": [
      "       id                 Romaji                         English startDate  \\\n",
      "0   16498     shingeki no kyojin                 attack on titan      2013   \n",
      "1  101922       kimetsu no yaiba  demon slayer: kimetsu no yaiba      2019   \n",
      "2    1535             death note                      death note      2006   \n",
      "3  113415         jujutsu kaisen                  jujutsu kaisen      2020   \n",
      "4   21459  boku no hero academia                my hero academia      2016   \n",
      "\n",
      "   popularity  favourites                                               tags  \\\n",
      "0      769756       48653  [{'name': 'Survival'}, {'name': 'Kaiju'}, {'na...   \n",
      "1      727599       39973  [{'name': 'Demons'}, {'name': 'Shounen'}, {'na...   \n",
      "2      700617       38859  [{'name': 'Crime'}, {'name': 'Detective'}, {'n...   \n",
      "3      668266       48203  [{'name': 'Urban Fantasy'}, {'name': 'Shounen'...   \n",
      "4      666087       19848  [{'name': 'Super Power'}, {'name': 'Superhero'...   \n",
      "\n",
      "                                              genres  averageScore  episodes  \\\n",
      "0          ['Action', 'Drama', 'Fantasy', 'Mystery']            84        25   \n",
      "1  ['Action', 'Adventure', 'Drama', 'Fantasy', 'S...            83        26   \n",
      "2  ['Mystery', 'Psychological', 'Supernatural', '...            84        37   \n",
      "3                ['Action', 'Drama', 'Supernatural']            86        24   \n",
      "4                  ['Action', 'Adventure', 'Comedy']            77        13   \n",
      "\n",
      "   duration                                        description  \\\n",
      "0      24.0  Several hundred years ago, humans were nearly ...   \n",
      "1      24.0  It is the Taisho Period in Japan. Tanjiro, a k...   \n",
      "2      23.0  Light Yagami is a genius high school student w...   \n",
      "3      24.0  A boy fights... for \"the right death.\"<br>\\n<b...   \n",
      "4      24.0  What would the world be like if 80 percent of ...   \n",
      "\n",
      "                               studios  \n",
      "0  {'nodes': [{'name': 'Wit Studio'}]}  \n",
      "1    {'nodes': [{'name': 'ufotable'}]}  \n",
      "2    {'nodes': [{'name': 'MADHOUSE'}]}  \n",
      "3       {'nodes': [{'name': 'MAPPA'}]}  \n",
      "4       {'nodes': [{'name': 'bones'}]}  \n"
     ]
    }
   ],
   "source": [
    "#Creat a new dataframe with json_normalize function\n",
    "#This pandas function will convert the dictionary data into a dataframe\n",
    "titleData = fullDF['title'].str.split(', \\'', expand=True)\n",
    "titleData.columns = ['Romaji', 'English']\n",
    "titleData['Romaji'] = titleData['Romaji'].str.replace('{\\'romaji\\': \\'', '')\n",
    "titleData['Romaji'] = titleData['Romaji'].str.replace('\\'', '')\n",
    "titleData['English'] = titleData['English'].str.replace('english\\': \\'', '')\n",
    "titleData['English'] = titleData['English'].str.replace('\\'}', '')\n",
    "\n",
    "fullDF = fullDF.drop(axis=1, columns='title')   #once this runs, the title column will be removed forever, so rerun the code from the beginning\n",
    "fullDF.insert(loc=1, column=titleData.columns[0], value=titleData['Romaji'])\n",
    "fullDF.insert(loc=2, column=titleData.columns[1], value=titleData['English'])\n",
    "#Same for the startDate column\n",
    "fullDF['startDate'] = fullDF['startDate'].str.replace('{\\'year\\': ', '')\n",
    "fullDF['startDate'] = fullDF['startDate'].str.replace('}', '')\n",
    "fullDF['English'] = fullDF['English'].str.lower()\n",
    "fullDF['Romaji'] = fullDF['Romaji'].str.lower()\n",
    "print(fullDF.head())\n",
    "#df_title = pd.json_normalize(fullDF['title'])\n"
   ]
  },
  {
   "cell_type": "markdown",
   "metadata": {},
   "source": [
    "Let us plot down the top 10 anime, according to scores and popularity."
   ]
  },
  {
   "cell_type": "code",
   "execution_count": 6,
   "metadata": {},
   "outputs": [
    {
     "data": {
      "text/plain": [
       "Text(0.5, 1.0, 'Top 10 Popular Anime')"
      ]
     },
     "execution_count": 6,
     "metadata": {},
     "output_type": "execute_result"
    },
    {
     "data": {
      "image/png": "[encoded data removed]",
      "text/plain": [
       "<Figure size 1200x400 with 1 Axes>"
      ]
     },
     "metadata": {},
     "output_type": "display_data"
    }
   ],
   "source": [
    "popular = fullDF[[\"Romaji\", \"English\", \"popularity\"]] \n",
    "plt.figure(figsize=(12, 4))\n",
    "\n",
    "plt.barh(popular['English'][:10], popular['popularity'][:10], color='skyblue', align='center')\n",
    "plt.gca().invert_yaxis()\n",
    "plt.xlim(500000, 800000)\n",
    "plt.xlabel('Popularity')\n",
    "plt.ylabel('Popular Anime')\n",
    "plt.title('Top 10 Popular Anime')"
   ]
  },
  {
   "cell_type": "code",
   "execution_count": 7,
   "metadata": {},
   "outputs": [
    {
     "data": {
      "text/plain": [
       "Text(0.5, 1.0, 'Top 10 Anime')"
      ]
     },
     "execution_count": 7,
     "metadata": {},
     "output_type": "execute_result"
    },
    {
     "data": {
      "image/png": "[encoded data removed]",
      "text/plain": [
       "<Figure size 1200x400 with 1 Axes>"
      ]
     },
     "metadata": {},
     "output_type": "display_data"
    }
   ],
   "source": [
    "sortedDF = fullDF[[\"Romaji\", \"English\", \"averageScore\", \"favourites\", \"popularity\"]]\n",
    "sortedDF = sortedDF.sort_values(by='averageScore', ascending=False)\n",
    "scores = sortedDF[[\"English\", \"averageScore\"]]\n",
    "plt.figure(figsize=(12, 4))\n",
    "\n",
    "plt.barh(scores['English'][:10], scores['averageScore'][:10], color='darkblue', align='center')\n",
    "plt.gca().invert_yaxis()\n",
    "plt.xlim(85, 95)\n",
    "plt.xlabel('Average Score')\n",
    "plt.ylabel('Top Anime')\n",
    "plt.title('Top 10 Anime')"
   ]
  },
  {
   "cell_type": "markdown",
   "metadata": {},
   "source": [
    "From the above graph we see that there are multiple anime with the same score. Also, Gintama has way too many highly rated seasons. Using the popularity and score alone for a recommendations can be a failure since the anime's above have really unrelated plots, well except maybe Gintama."
   ]
  },
  {
   "cell_type": "markdown",
   "metadata": {},
   "source": [
    "This is what my plan is, convert the genres column into a bigger Genres column that has all the genres as smaller seperate columns. If the anime has that genre used in it, it would have a 1, else a 0. \n",
    "\n",
    "on 01/06/2024<h2>THIS IS IDEA IS ACTUALLY CORRECT!!!!!!! IT'S CALLED COUNT VECTORIZER</h2>\n",
    "\n",
    "Given up on that idea, lol, instead here's a cleaner version of tags, genres and studios. I have first cleaned them by removing the wierd name: thing from the tags and similar in the studios columns, I have removed the nodes: name: part and only kept the studios. Everyone has tags, genre and studios as objects in a column, or a list of objects. \n"
   ]
  },
  {
   "cell_type": "code",
   "execution_count": 8,
   "metadata": {},
   "outputs": [],
   "source": [
    "df_change = fullDF['genres'].str.split(',').tolist()\n",
    "#I have a list or lists.\n",
    "#Each list of list contains a string\n",
    "#The String has not only words but also other shit in it\n",
    "#I want to remove the other shit\n",
    "genreList = []\n",
    "for i in range(len(df_change)):\n",
    "    for j in range(len(df_change[i])):\n",
    "         string = df_change[i][j]\n",
    "         df_change[i][j]= ''.join(letter.lower() for letter in string if letter.isalnum())\n",
    "         #adding into out genre list\n",
    "         if df_change[i][j] not in genreList:\n",
    "            genreList.append(df_change[i][j])\n",
    "fullDF['genres'] = df_change\n",
    "genreList.pop()\n",
    "#print(genreList)\n",
    "\n",
    "\n",
    "#Let's do the same but for tags\n",
    "tagsDF = fullDF['tags'].str.split(', ').tolist()\n",
    "for i in range(len(tagsDF)):\n",
    "    for j in range(len(tagsDF[i])):\n",
    "        tags = tagsDF[i][j]\n",
    "        tagsDF[i][j] = ''.join(letter.lower() for letter in tags if letter.isalnum())\n",
    "        tagsDF[i][j] = tagsDF[i][j].replace(\"name\", \"\")\n",
    "fullDF['tags'] = tagsDF\n",
    "\n",
    "\n",
    "#Lets do the same but for studios\n",
    "studDF = fullDF['studios'].str.split(', ').tolist()\n",
    "for i in range(len(studDF)):\n",
    "    for j in range(len(studDF[i])):\n",
    "        studs = studDF[i][j]\n",
    "        studDF[i][j] = ''.join(letter.lower() for letter in studs if letter.isalnum())\n",
    "        studDF[i][j] = studDF[i][j].replace(\"nodesname\", \"\")\n",
    "    studDF[i] = ''.join(studDF[i][0])\n",
    "fullDF['studios'] = studDF"
   ]
  },
  {
   "cell_type": "code",
   "execution_count": 9,
   "metadata": {},
   "outputs": [
    {
     "name": "stdout",
     "output_type": "stream",
     "text": [
      "       id                 Romaji                         English startDate  \\\n",
      "0   16498     shingeki no kyojin                 attack on titan      2013   \n",
      "1  101922       kimetsu no yaiba  demon slayer: kimetsu no yaiba      2019   \n",
      "2    1535             death note                      death note      2006   \n",
      "3  113415         jujutsu kaisen                  jujutsu kaisen      2020   \n",
      "4   21459  boku no hero academia                my hero academia      2016   \n",
      "\n",
      "   popularity  favourites                                               tags  \\\n",
      "0      769756       48653  [survival, kaiju, tragedy, shapeshifting, mili...   \n",
      "1      727599       39973  [demons, shounen, swordplay, maleprotagonist, ...   \n",
      "2      700617       38859  [crime, detective, antihero, maleprotagonist, ...   \n",
      "3      668266       48203  [urbanfantasy, shounen, superpower, youkai, ma...   \n",
      "4      666087       19848  [superpower, superhero, shounen, primarilyteen...   \n",
      "\n",
      "                                              genres  averageScore  episodes  \\\n",
      "0                  [action, drama, fantasy, mystery]            84        25   \n",
      "1  [action, adventure, drama, fantasy, supernatural]            83        26   \n",
      "2   [mystery, psychological, supernatural, thriller]            84        37   \n",
      "3                      [action, drama, supernatural]            86        24   \n",
      "4                        [action, adventure, comedy]            77        13   \n",
      "\n",
      "   duration                                        description    studios  \n",
      "0      24.0  Several hundred years ago, humans were nearly ...  witstudio  \n",
      "1      24.0  It is the Taisho Period in Japan. Tanjiro, a k...   ufotable  \n",
      "2      23.0  Light Yagami is a genius high school student w...   madhouse  \n",
      "3      24.0  A boy fights... for \"the right death.\"<br>\\n<b...      mappa  \n",
      "4      24.0  What would the world be like if 80 percent of ...      bones  \n"
     ]
    }
   ],
   "source": [
    "print(fullDF.head())\n",
    "#print(fullDF.columns)"
   ]
  },
  {
   "cell_type": "markdown",
   "metadata": {},
   "source": [
    "Now all the tags and genres have become iterable objects instead of dead strings. Now we can easily convert them into some form of vectors</br>\n",
    "If we want we can also use the studios column in out recommendations...</br>\n",
    "\n",
    "Let's use scikit learns CountVectorizer to create a matrix of 1s and 0s of the tags, genres and studios. First we will need to make a datafram that only uses those specific features. So now lets create a  'metadata soup', or let's just mix all the datas we cleaned thus far."
   ]
  },
  {
   "cell_type": "code",
   "execution_count": 10,
   "metadata": {},
   "outputs": [],
   "source": [
    "def create_soup(x):\n",
    "    return ' '.join(x['genres']) + ' ' + ' '.join(x['tags']) + ' ' + x['studios'] \n",
    "fullDF['soup'] = fullDF.apply(create_soup, axis=1)"
   ]
  },
  {
   "cell_type": "markdown",
   "metadata": {},
   "source": [
    "This has now created a new column with genre, tags, and studios as a string"
   ]
  },
  {
   "cell_type": "code",
   "execution_count": 11,
   "metadata": {},
   "outputs": [
    {
     "name": "stdout",
     "output_type": "stream",
     "text": [
      "[[0 0 0 ... 0 0 0]\n",
      " [0 0 0 ... 0 0 0]\n",
      " [0 0 0 ... 0 0 0]\n",
      " ...\n",
      " [0 0 0 ... 0 0 0]\n",
      " [0 0 0 ... 0 0 0]\n",
      " [0 0 0 ... 0 0 0]]\n"
     ]
    }
   ],
   "source": [
    "#Importing CountVectorizer and creating the count matrix\n",
    "from sklearn.feature_extraction.text import CountVectorizer\n",
    "from sklearn.metrics.pairwise import cosine_similarity\n",
    "from sklearn.neighbors import NearestNeighbors\n",
    "\n",
    "numFeatures = ['popularity', 'favourites', 'averageScore']\n",
    "numMatrix = fullDF[numFeatures].to_numpy()\n",
    "\n",
    "vectorizer = CountVectorizer(stop_words='english')\n",
    "soup_matrix = vectorizer.fit_transform(fullDF['soup'])\n",
    "print(soup_matrix.toarray())\n",
    "\n",
    "features = np.concatenate((soup_matrix.toarray(), numMatrix), axis=1)\n",
    "\n",
    "#computing the Cosine Similarity matrix based on the features\n",
    "cosine_sim = cosine_similarity(features, features)"
   ]
  },
  {
   "cell_type": "code",
   "execution_count": 12,
   "metadata": {},
   "outputs": [],
   "source": [
    "#print(test(fullDF))"
   ]
  },
  {
   "cell_type": "code",
   "execution_count": 13,
   "metadata": {},
   "outputs": [
    {
     "name": "stdout",
     "output_type": "stream",
     "text": [
      "Romaji\n",
      "shingeki no kyojin       0\n",
      "kimetsu no yaiba         1\n",
      "death note               2\n",
      "jujutsu kaisen           3\n",
      "boku no hero academia    4\n",
      "dtype: int64\n",
      "English\n",
      "attack on titan                   0\n",
      "demon slayer: kimetsu no yaiba    1\n",
      "death note                        2\n",
      "jujutsu kaisen                    3\n",
      "my hero academia                  4\n",
      "dtype: int64\n"
     ]
    }
   ],
   "source": [
    "#Construct a reverse map of indices and anime titles\n",
    "#Now we can access the index of a particular anime in our main DataFrame using the \n",
    "indicesR = pd.Series(fullDF.index, index=fullDF['Romaji'])\n",
    "indicesE = pd.Series(fullDF.index, index=fullDF['English'])\n",
    "print(indicesR.head())  \n",
    "print(indicesE.head())  "
   ]
  },
  {
   "cell_type": "markdown",
   "metadata": {},
   "source": [
    "Finally creating a recommendations function, that will provide us a list of anime as reccomendations. Let's make it such that we can run different Models and Methods through it.</br>\n",
    "The function should work as following\n",
    "\n",
    "<li>Get the index of the anime, given the title, either in English or Romaji.\n",
    "<li>Get the list of Cosine Similarity score, for the particular anime. Convert it into a list of tuples where the first element is its position and the second element is the score. In python, the sorted function efficiently sorts a list of tuples, hence we convert it into tuples.\n",
    "<li>Sort the list of tuples based on the similarity scores \n",
    "<li>Get the top 11 anime, ignore the first anime in the list, as it would give the anime itself. \n",
    "<li>Return the titles corresponding to the indices of the top elements."
   ]
  },
  {
   "cell_type": "code",
   "execution_count": 14,
   "metadata": {},
   "outputs": [],
   "source": [
    "def getReccomendations(title,num, cosine_sim=cosine_sim):\n",
    "    #Get the index of the anime that matches the title\n",
    "    title = title.lower()\n",
    "    try:\n",
    "        idx = indicesR[title] if title in indicesR else indicesE[title]\n",
    "    except:\n",
    "        print(\"Anime not found\")\n",
    "        return None\n",
    "    \n",
    "    #get the list of cosine similarity scores for that particular anime with all anime\n",
    "    if (num == 0):\n",
    "        animeFeatures = features[idx].reshape(1, -1)\n",
    "        knn = NearestNeighbors(n_neighbors=11, algorithm='auto').fit(features)\n",
    "        distances, indices = knn.kneighbors(animeFeatures)\n",
    "        recommendIDs = indices.flatten()[1:]\n",
    "        return fullDF.iloc[recommendIDs]\n",
    "    #Working for the KNearestNeighbours Model\n",
    "    elif (num == 1):\n",
    "        simScoreList = list(enumerate(cosine_sim[idx]))\n",
    "        simScoreList = sorted(simScoreList, key= lambda x: x[1] , reverse=True)\n",
    "        simScoreList = simScoreList[1:11]\n",
    "        animeIndex = [i[0] for i in simScoreList]\n",
    "        return fullDF.iloc[animeIndex]\n",
    "    elif (num == 2):\n",
    "        animeFeatures = features[idx].reshape(1, -1)\n",
    "        knn = NearestNeighbors(n_neighbors=11, algorithm='auto', metric='canberra').fit(features)\n",
    "        distances, indices = knn.kneighbors(animeFeatures)\n",
    "        recommendIDs = indices.flatten()[1:]\n",
    "        return fullDF.iloc[recommendIDs] \n",
    "    elif (num == 3):\n",
    "        animeFeatures = features[idx].reshape(1, -1)\n",
    "        knn = NearestNeighbors(n_neighbors=11, algorithm='auto', metric='dice').fit(features)\n",
    "        distances, indices = knn.kneighbors(animeFeatures)\n",
    "        recommendIDs = indices.flatten()[1:]\n",
    "        return fullDF.iloc[recommendIDs] \n",
    "    elif (num == 4):\n",
    "        animeFeatures = features[idx].reshape(1, -1)\n",
    "        knn = NearestNeighbors(n_neighbors=11, algorithm='auto', metric='yule').fit(features)\n",
    "        distances, indices = knn.kneighbors(animeFeatures)\n",
    "        recommendIDs = indices.flatten()[1:]\n",
    "        return fullDF.iloc[recommendIDs] \n",
    "    else:\n",
    "        return \"wrong number!!\""
   ]
  },
  {
   "cell_type": "code",
   "execution_count": 16,
   "metadata": {},
   "outputs": [
    {
     "name": "stdout",
     "output_type": "stream",
     "text": [
      "          id                                             Romaji  \\\n",
      "527   163132                                    horimiya: piece   \n",
      "1542   14753                hori-san to miyamura-kun: shingakki   \n",
      "165    14227                             tonari no kaibutsu-kun   \n",
      "31      4224                                          toradora!   \n",
      "1116  166216           boku no kokoro no yabai yatsu 2nd season   \n",
      "255    98291                                 tsurezure children   \n",
      "322    99468                        karakai jouzu no takagi-san   \n",
      "680   107068                      karakai jouzu no takagi-san 2   \n",
      "909    21296  zutto mae kara suki deshita.: kokuhaku jikkou ...   \n",
      "637   153152                      boku no kokoro no yabai yatsu   \n",
      "\n",
      "                                 English  averageScore  \n",
      "527         horimiya: the missing pieces            82  \n",
      "1542                     english': none}            71  \n",
      "165                    my little monster            72  \n",
      "31                             toradora!            78  \n",
      "1116    the dangers in my heart season 2            88  \n",
      "255                   tsuredure children            74  \n",
      "322            teasing master takagi-san            74  \n",
      "680   teasing master takagi-san season 2            79  \n",
      "909   english': \"i've always liked you\"}            70  \n",
      "637              the dangers in my heart            81  \n"
     ]
    }
   ],
   "source": [
    "#Enter 0 or 1 for the second parameter\n",
    "#0 for Metric = Minkowski Distance(default KNN Metric)\n",
    "#1 for Metric = Cosine Similarity\n",
    "#2 for Metric = Canberra Distance or Dice, SPECIALLY FOR RomComs\n",
    "#3 for Metric = Dice Distance, SPECIALLY for Comedy Shows\n",
    "recommend = getReccomendations('horimiya', 2) \n",
    "print(recommend[['id', 'Romaji', 'English', 'averageScore']])"
   ]
  }
 ],
 "metadata": {
  "kernelspec": {
   "display_name": "aniRecom",
   "language": "python",
   "name": "python3"
  },
  "language_info": {
   "codemirror_mode": {
    "name": "ipython",
    "version": 3
   },
   "file_extension": ".py",
   "mimetype": "text/x-python",
   "name": "python",
   "nbconvert_exporter": "python",
   "pygments_lexer": "ipython3",
   "version": "3.11.2"
  }
 },
 "nbformat": 4,
 "nbformat_minor": 2
}
